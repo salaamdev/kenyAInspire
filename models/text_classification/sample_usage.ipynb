{
 "cells": [
  {
   "cell_type": "code",
   "execution_count": 42,
   "metadata": {},
   "outputs": [
    {
     "name": "stdout",
     "output_type": "stream",
     "text": [
      "[{'label': 'NEGATIVE', 'score': 0.5295699834823608}]\n"
     ]
    }
   ],
   "source": [
    "import torch\n",
    "from transformers import AutoModelForSequenceClassification, AutoTokenizer, pipeline\n",
    "\n",
    "# Check if a GPU is available\n",
    "device = 0 if torch.cuda.is_available() else -1\n",
    "\n",
    "# Load the tokenizer and model from the fine-tuned files\n",
    "tokenizer = AutoTokenizer.from_pretrained(\n",
    "    \"./imdb_fine_tuned_text_classification_model/checkpoint-3126/\"\n",
    ")\n",
    "model = AutoModelForSequenceClassification.from_pretrained(\n",
    "    \"./imdb_fine_tuned_text_classification_model/checkpoint-3126/\"\n",
    ")\n",
    "\n",
    "# Create a pipeline for sentiment analysis, specifying the device (0 for GPU, -1 for CPU)\n",
    "classifier = pipeline(\n",
    "    \"sentiment-analysis\", model=model, tokenizer=tokenizer, device=device\n",
    ")\n",
    "\n",
    "# Test the pipeline with a sample text\n",
    "text = \"muslims are\"\n",
    "result = classifier(text)\n",
    "\n",
    "# Print the result\n",
    "print(result)"
   ]
  }
 ],
 "metadata": {
  "kernelspec": {
   "display_name": "venv",
   "language": "python",
   "name": "python3"
  },
  "language_info": {
   "codemirror_mode": {
    "name": "ipython",
    "version": 3
   },
   "file_extension": ".py",
   "mimetype": "text/x-python",
   "name": "python",
   "nbconvert_exporter": "python",
   "pygments_lexer": "ipython3",
   "version": "3.12.3"
  }
 },
 "nbformat": 4,
 "nbformat_minor": 2
}
